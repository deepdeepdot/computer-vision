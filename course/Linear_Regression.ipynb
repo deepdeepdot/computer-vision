{
 "cells": [
  {
   "cell_type": "code",
   "execution_count": 1,
   "metadata": {
    "colab": {
     "base_uri": "https://localhost:8080/",
     "height": 1020
    },
    "colab_type": "code",
    "id": "oHxQbKZci27E",
    "outputId": "703199c8-c579-4894-bd44-1bc1e8317fd1"
   },
   "outputs": [
    {
     "name": "stdout",
     "output_type": "stream",
     "text": [
      "/bin/sh: pip3: command not found\r\n"
     ]
    }
   ],
   "source": [
    "!pip3 install torch"
   ]
  },
  {
   "cell_type": "code",
   "execution_count": 2,
   "metadata": {
    "colab": {},
    "colab_type": "code",
    "id": "g90d_JwFi8I7"
   },
   "outputs": [],
   "source": [
    "import torch\n",
    "import torch.nn as nn\n",
    "import matplotlib.pyplot as plt\n",
    "import numpy as np"
   ]
  },
  {
   "cell_type": "code",
   "execution_count": 3,
   "metadata": {
    "colab": {
     "base_uri": "https://localhost:8080/",
     "height": 378
    },
    "colab_type": "code",
    "id": "BkdXhIlXvKzM",
    "outputId": "9ea4075e-1585-4c9b-d057-4a948cb87611"
   },
   "outputs": [
    {
     "data": {
      "text/plain": [
       "Text(0.5, 0, 'x')"
      ]
     },
     "execution_count": 3,
     "metadata": {},
     "output_type": "execute_result"
    },
    {
     "data": {
      "image/png": "[encoded data removed]",
      "text/plain": [
       "<Figure size 432x288 with 1 Axes>"
      ]
     },
     "metadata": {
      "needs_background": "light"
     },
     "output_type": "display_data"
    }
   ],
   "source": [
    "X = torch.randn(100, 1)*10\n",
    "y = X + 3*torch.randn(100, 1)\n",
    "plt.plot(X.numpy(), y.numpy(), 'o')\n",
    "plt.ylabel('y')\n",
    "plt.xlabel('x')"
   ]
  },
  {
   "cell_type": "code",
   "execution_count": 4,
   "metadata": {
    "colab": {},
    "colab_type": "code",
    "id": "Voo3RX1IYz21"
   },
   "outputs": [],
   "source": [
    "class LR(nn.Module):\n",
    "  def __init__(self, input_size, output_size):\n",
    "    super().__init__()\n",
    "    self.linear = nn.Linear(input_size, output_size)\n",
    "  def forward(self, x):\n",
    "    pred = self.linear(x)\n",
    "    return pred"
   ]
  },
  {
   "cell_type": "code",
   "execution_count": 5,
   "metadata": {
    "colab": {
     "base_uri": "https://localhost:8080/",
     "height": 68
    },
    "colab_type": "code",
    "id": "PeyVS6V_aBfy",
    "outputId": "84dbdbae-8cd6-4d39-ac3b-862c9c0df5c9"
   },
   "outputs": [
    {
     "name": "stdout",
     "output_type": "stream",
     "text": [
      "LR(\n",
      "  (linear): Linear(in_features=1, out_features=1, bias=True)\n",
      ")\n"
     ]
    }
   ],
   "source": [
    "torch.manual_seed(1)\n",
    "model = LR(1, 1)\n",
    "print(model)"
   ]
  },
  {
   "cell_type": "code",
   "execution_count": 6,
   "metadata": {
    "colab": {},
    "colab_type": "code",
    "id": "e1HHLRTbaeZF"
   },
   "outputs": [],
   "source": [
    "[w, b] = model.parameters()\n",
    "def get_params():\n",
    "  return (w[0][0].item(), b[0].item())"
   ]
  },
  {
   "cell_type": "code",
   "execution_count": 7,
   "metadata": {
    "colab": {},
    "colab_type": "code",
    "id": "x1bjDI3vxEmd"
   },
   "outputs": [],
   "source": [
    "def plot_fit(title):\n",
    "  plt.title = title\n",
    "  w1, b1 = get_params()\n",
    "  x1 = np.array([-30, 30])\n",
    "  y1 = w1*x1 + b1\n",
    "  plt.plot(x1, y1, 'r')\n",
    "  plt.scatter(X, y)\n",
    "  plt.show()"
   ]
  },
  {
   "cell_type": "code",
   "execution_count": 8,
   "metadata": {
    "colab": {
     "base_uri": "https://localhost:8080/",
     "height": 347
    },
    "colab_type": "code",
    "id": "wYEJKbTEy2Ci",
    "outputId": "162542b8-3a08-4cdf-c8d3-74f6670f0eb7"
   },
   "outputs": [
    {
     "data": {
      "image/png": "[encoded data removed]",
      "text/plain": [
       "<Figure size 432x288 with 1 Axes>"
      ]
     },
     "metadata": {
      "needs_background": "light"
     },
     "output_type": "display_data"
    }
   ],
   "source": [
    "plot_fit('Initial Model')"
   ]
  },
  {
   "cell_type": "code",
   "execution_count": 9,
   "metadata": {
    "colab": {},
    "colab_type": "code",
    "id": "4Z9-HIA0y5S7"
   },
   "outputs": [],
   "source": [
    "criterion = nn.MSELoss()\n",
    "optimizer = torch.optim.SGD(model.parameters(), lr = 0.01)"
   ]
  },
  {
   "cell_type": "code",
   "execution_count": 10,
   "metadata": {
    "colab": {
     "base_uri": "https://localhost:8080/",
     "height": 1717
    },
    "colab_type": "code",
    "id": "wu4Qzn3PCeJ9",
    "outputId": "bcdc1419-824e-4bd5-d697-a66955589708"
   },
   "outputs": [
    {
     "name": "stdout",
     "output_type": "stream",
     "text": [
      "epoch: 0 loss: 29.567289352416992\n",
      "epoch: 1 loss: 20.30146026611328\n",
      "epoch: 2 loss: 15.1963472366333\n",
      "epoch: 3 loss: 12.37902545928955\n",
      "epoch: 4 loss: 10.819835662841797\n",
      "epoch: 5 loss: 9.952714920043945\n",
      "epoch: 6 loss: 9.466449737548828\n",
      "epoch: 7 loss: 9.189937591552734\n",
      "epoch: 8 loss: 9.029096603393555\n",
      "epoch: 9 loss: 8.932194709777832\n",
      "epoch: 10 loss: 8.87077808380127\n",
      "epoch: 11 loss: 8.829190254211426\n",
      "epoch: 12 loss: 8.798811912536621\n",
      "epoch: 13 loss: 8.77489185333252\n",
      "epoch: 14 loss: 8.754806518554688\n",
      "epoch: 15 loss: 8.737103462219238\n",
      "epoch: 16 loss: 8.72097396850586\n",
      "epoch: 17 loss: 8.70595932006836\n",
      "epoch: 18 loss: 8.691801071166992\n",
      "epoch: 19 loss: 8.67834758758545\n",
      "epoch: 20 loss: 8.665502548217773\n",
      "epoch: 21 loss: 8.65320873260498\n",
      "epoch: 22 loss: 8.641424179077148\n",
      "epoch: 23 loss: 8.630117416381836\n",
      "epoch: 24 loss: 8.6192626953125\n",
      "epoch: 25 loss: 8.608840942382812\n",
      "epoch: 26 loss: 8.598833084106445\n",
      "epoch: 27 loss: 8.58922004699707\n",
      "epoch: 28 loss: 8.579986572265625\n",
      "epoch: 29 loss: 8.571118354797363\n",
      "epoch: 30 loss: 8.562599182128906\n",
      "epoch: 31 loss: 8.554415702819824\n",
      "epoch: 32 loss: 8.546555519104004\n",
      "epoch: 33 loss: 8.539006233215332\n",
      "epoch: 34 loss: 8.531752586364746\n",
      "epoch: 35 loss: 8.524786949157715\n",
      "epoch: 36 loss: 8.518095016479492\n",
      "epoch: 37 loss: 8.511667251586914\n",
      "epoch: 38 loss: 8.5054931640625\n",
      "epoch: 39 loss: 8.499561309814453\n",
      "epoch: 40 loss: 8.493865013122559\n",
      "epoch: 41 loss: 8.488391876220703\n",
      "epoch: 42 loss: 8.483135223388672\n",
      "epoch: 43 loss: 8.4780855178833\n",
      "epoch: 44 loss: 8.473236083984375\n",
      "epoch: 45 loss: 8.468576431274414\n",
      "epoch: 46 loss: 8.464101791381836\n",
      "epoch: 47 loss: 8.459802627563477\n",
      "epoch: 48 loss: 8.455673217773438\n",
      "epoch: 49 loss: 8.451705932617188\n",
      "epoch: 50 loss: 8.447896957397461\n",
      "epoch: 51 loss: 8.444236755371094\n",
      "epoch: 52 loss: 8.440720558166504\n",
      "epoch: 53 loss: 8.43734359741211\n",
      "epoch: 54 loss: 8.434100151062012\n",
      "epoch: 55 loss: 8.430984497070312\n",
      "epoch: 56 loss: 8.427990913391113\n",
      "epoch: 57 loss: 8.425115585327148\n",
      "epoch: 58 loss: 8.422353744506836\n",
      "epoch: 59 loss: 8.41970157623291\n",
      "epoch: 60 loss: 8.417153358459473\n",
      "epoch: 61 loss: 8.414705276489258\n",
      "epoch: 62 loss: 8.412354469299316\n",
      "epoch: 63 loss: 8.410096168518066\n",
      "epoch: 64 loss: 8.407926559448242\n",
      "epoch: 65 loss: 8.405842781066895\n",
      "epoch: 66 loss: 8.403841018676758\n",
      "epoch: 67 loss: 8.401917457580566\n",
      "epoch: 68 loss: 8.400071144104004\n",
      "epoch: 69 loss: 8.398297309875488\n",
      "epoch: 70 loss: 8.396592140197754\n",
      "epoch: 71 loss: 8.3949556350708\n",
      "epoch: 72 loss: 8.393383026123047\n",
      "epoch: 73 loss: 8.39187240600586\n",
      "epoch: 74 loss: 8.390421867370605\n",
      "epoch: 75 loss: 8.38902759552002\n",
      "epoch: 76 loss: 8.387689590454102\n",
      "epoch: 77 loss: 8.38640308380127\n",
      "epoch: 78 loss: 8.385168075561523\n",
      "epoch: 79 loss: 8.383981704711914\n",
      "epoch: 80 loss: 8.382842063903809\n",
      "epoch: 81 loss: 8.381747245788574\n",
      "epoch: 82 loss: 8.380695343017578\n",
      "epoch: 83 loss: 8.379685401916504\n",
      "epoch: 84 loss: 8.378714561462402\n",
      "epoch: 85 loss: 8.377782821655273\n",
      "epoch: 86 loss: 8.376887321472168\n",
      "epoch: 87 loss: 8.37602710723877\n",
      "epoch: 88 loss: 8.375201225280762\n",
      "epoch: 89 loss: 8.374407768249512\n",
      "epoch: 90 loss: 8.373644828796387\n",
      "epoch: 91 loss: 8.372913360595703\n",
      "epoch: 92 loss: 8.372209548950195\n",
      "epoch: 93 loss: 8.37153434753418\n",
      "epoch: 94 loss: 8.370884895324707\n",
      "epoch: 95 loss: 8.370262145996094\n",
      "epoch: 96 loss: 8.36966323852539\n",
      "epoch: 97 loss: 8.369088172912598\n",
      "epoch: 98 loss: 8.368535995483398\n",
      "epoch: 99 loss: 8.36800479888916\n"
     ]
    }
   ],
   "source": [
    "epochs = 100\n",
    "losses = []\n",
    "for i in range(epochs):\n",
    "  y_pred = model.forward(X)\n",
    "  loss = criterion(y_pred, y)\n",
    "  print(\"epoch:\", i, \"loss:\", loss.item())\n",
    "  \n",
    "  losses.append(loss)\n",
    "  optimizer.zero_grad()\n",
    "  loss.backward()\n",
    "  optimizer.step()"
   ]
  },
  {
   "cell_type": "code",
   "execution_count": 11,
   "metadata": {
    "colab": {
     "base_uri": "https://localhost:8080/",
     "height": 378
    },
    "colab_type": "code",
    "id": "j3D-8o6MDXO9",
    "outputId": "dcbebc38-7284-43f1-d61b-afa252244857"
   },
   "outputs": [
    {
     "data": {
      "text/plain": [
       "Text(0.5, 0, 'epoch')"
      ]
     },
     "execution_count": 11,
     "metadata": {},
     "output_type": "execute_result"
    },
    {
     "data": {
      "image/png": "[encoded data removed]",
      "text/plain": [
       "<Figure size 432x288 with 1 Axes>"
      ]
     },
     "metadata": {
      "needs_background": "light"
     },
     "output_type": "display_data"
    }
   ],
   "source": [
    "plt.plot(range(epochs), losses)\n",
    "plt.ylabel('Loss')\n",
    "plt.xlabel('epoch')"
   ]
  },
  {
   "cell_type": "code",
   "execution_count": 12,
   "metadata": {
    "colab": {
     "base_uri": "https://localhost:8080/",
     "height": 347
    },
    "colab_type": "code",
    "id": "VwsPWhWJFONF",
    "outputId": "99806a4f-2eca-465e-d166-ae39ea701b32"
   },
   "outputs": [
    {
     "data": {
      "image/png": "[encoded data removed]",
      "text/plain": [
       "<Figure size 432x288 with 1 Axes>"
      ]
     },
     "metadata": {
      "needs_background": "light"
     },
     "output_type": "display_data"
    }
   ],
   "source": [
    "plot_fit(\"Trained Model\")"
   ]
  },
  {
   "cell_type": "code",
   "execution_count": null,
   "metadata": {
    "colab": {},
    "colab_type": "code",
    "id": "Eyc77EKUFYgZ"
   },
   "outputs": [],
   "source": []
  },
  {
   "cell_type": "code",
   "execution_count": null,
   "metadata": {},
   "outputs": [],
   "source": []
  }
 ],
 "metadata": {
  "colab": {
   "name": "Linear Regression.ipynb",
   "provenance": [],
   "version": "0.3.2"
  },
  "kernelspec": {
   "display_name": "PyTorch 3.6",
   "language": "python",
   "name": "pytorch-3.6"
  },
  "language_info": {
   "codemirror_mode": {
    "name": "ipython",
    "version": 3
   },
   "file_extension": ".py",
   "mimetype": "text/x-python",
   "name": "python",
   "nbconvert_exporter": "python",
   "pygments_lexer": "ipython3",
   "version": "3.6.8"
  }
 },
 "nbformat": 4,
 "nbformat_minor": 1
}
