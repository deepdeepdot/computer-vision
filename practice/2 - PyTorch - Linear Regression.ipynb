{
 "cells": [
  {
   "cell_type": "code",
   "execution_count": 1,
   "metadata": {},
   "outputs": [
    {
     "data": {
      "text/plain": [
       "<torch._C.Generator at 0x118844390>"
      ]
     },
     "execution_count": 1,
     "metadata": {},
     "output_type": "execute_result"
    }
   ],
   "source": [
    "import torch\n",
    "import numpy as np\n",
    "from torch.nn import Linear\n",
    "\n",
    "import sys\n",
    "sys.version\n",
    "\n",
    "torch.manual_seed(1)"
   ]
  },
  {
   "cell_type": "code",
   "execution_count": 2,
   "metadata": {},
   "outputs": [],
   "source": [
    "w = torch.tensor(3.0, requires_grad=True)\n",
    "b = torch.tensor(1.0, requires_grad=True)\n",
    "\n",
    "def forward(x):\n",
    "    y = w * x + b\n",
    "    return y\n"
   ]
  },
  {
   "cell_type": "code",
   "execution_count": 3,
   "metadata": {},
   "outputs": [
    {
     "data": {
      "text/plain": [
       "tensor(7., grad_fn=<AddBackward0>)"
      ]
     },
     "execution_count": 3,
     "metadata": {},
     "output_type": "execute_result"
    }
   ],
   "source": [
    "x = torch.tensor(2)\n",
    "forward(x)"
   ]
  },
  {
   "cell_type": "code",
   "execution_count": 4,
   "metadata": {},
   "outputs": [
    {
     "data": {
      "text/plain": [
       "tensor([[13],\n",
       "        [22]], grad_fn=<AddBackward0>)"
      ]
     },
     "execution_count": 4,
     "metadata": {},
     "output_type": "execute_result"
    }
   ],
   "source": [
    "x = torch.tensor([[4], [7]])\n",
    "forward(x)"
   ]
  },
  {
   "cell_type": "code",
   "execution_count": 5,
   "metadata": {},
   "outputs": [],
   "source": [
    "# Linear model"
   ]
  },
  {
   "cell_type": "code",
   "execution_count": 6,
   "metadata": {},
   "outputs": [
    {
     "name": "stdout",
     "output_type": "stream",
     "text": [
      "Parameter containing:\n",
      "tensor([-0.4414], requires_grad=True) Parameter containing:\n",
      "tensor([[0.5153]], requires_grad=True)\n"
     ]
    }
   ],
   "source": [
    "model = Linear(in_features=1, out_features=1)\n",
    "print(model.bias, model.weight)"
   ]
  },
  {
   "cell_type": "code",
   "execution_count": 7,
   "metadata": {},
   "outputs": [
    {
     "name": "stdout",
     "output_type": "stream",
     "text": [
      "tensor([[0.5891],\n",
      "        [1.2590]], grad_fn=<AddmmBackward>)\n"
     ]
    }
   ],
   "source": [
    "x = torch.tensor([[2.0], [3.3]])\n",
    "print(model(x))"
   ]
  },
  {
   "cell_type": "code",
   "execution_count": 8,
   "metadata": {},
   "outputs": [
    {
     "data": {
      "text/plain": [
       "Text(0.5, 0, 'x')"
      ]
     },
     "execution_count": 8,
     "metadata": {},
     "output_type": "execute_result"
    }
   ],
   "source": [
    "# Custom Models\n",
    "import torch\n",
    "import torch.nn as nn\n",
    "import matplotlib.pyplot as plt\n",
    "\n",
    "X = torch.randn(100, 1) * 10\n",
    "y = X + 3 * torch.randn(100, 1)\n",
    "plt.plot(X.numpy(), y.numpy(), 'o')\n",
    "plt.ylabel('y')\n",
    "plt.xlabel('x')"
   ]
  },
  {
   "cell_type": "code",
   "execution_count": 9,
   "metadata": {},
   "outputs": [],
   "source": [
    "class LR(nn.Module):\n",
    "    def __init__(self, input_size, output_size):\n",
    "        super().__init__()\n",
    "        self.linear = nn.Linear(input_size, output_size)\n",
    "    \n",
    "    def forward(self, x):\n",
    "        pred = self.linear(x)\n",
    "        return pred"
   ]
  },
  {
   "cell_type": "code",
   "execution_count": 10,
   "metadata": {},
   "outputs": [
    {
     "name": "stdout",
     "output_type": "stream",
     "text": [
      "LR(\n",
      "  (linear): Linear(in_features=1, out_features=1, bias=True)\n",
      ")\n",
      "Parameter containing:\n",
      "tensor([[-0.4114]], requires_grad=True) Parameter containing:\n",
      "tensor([0.2438], requires_grad=True)\n",
      "-0.4114351272583008 0.24377381801605225\n"
     ]
    },
    {
     "data": {
      "image/png": "[encoded data removed]",
      "text/plain": [
       "<Figure size 432x288 with 1 Axes>"
      ]
     },
     "metadata": {
      "needs_background": "light"
     },
     "output_type": "display_data"
    }
   ],
   "source": [
    "model = LR(1, 1)\n",
    "print(model)\n",
    "# print(list(model.parameters()))\n",
    "\n",
    "[w, b] = model.parameters()\n",
    "print(w, b)\n",
    "w1 = w[0][0].item()\n",
    "b1 = b[0].item()\n",
    "print(w1, b1)\n",
    "\n",
    "def get_params():\n",
    "    return (w[0][0].item(), b[0].item())\n",
    "\n",
    "def plot_fit(title):\n",
    "  plt.title = title\n",
    "  w1, b1 = get_params()\n",
    "  x1 = np.array([-30, 30])\n",
    "  y1 = w1*x1 + b1\n",
    "  plt.plot(x1, y1, 'r')\n",
    "  plt.scatter(X, y)\n",
    "  plt.show()\n",
    "\n",
    "plot_fit('Initial Model')"
   ]
  },
  {
   "cell_type": "code",
   "execution_count": 11,
   "metadata": {},
   "outputs": [
    {
     "data": {
      "text/plain": [
       "[Parameter containing:\n",
       " tensor([[0.5153]], requires_grad=True), Parameter containing:\n",
       " tensor([-0.4414], requires_grad=True)]"
      ]
     },
     "execution_count": 11,
     "metadata": {},
     "output_type": "execute_result"
    }
   ],
   "source": [
    "torch.manual_seed(1)\n",
    "model = LR(1, 1)\n",
    "x = torch.tensor([[1.0], [2.0]])\n",
    "model.forward(x)\n",
    "\n",
    "list(model.parameters())\n"
   ]
  },
  {
   "cell_type": "code",
   "execution_count": 12,
   "metadata": {},
   "outputs": [],
   "source": [
    "[w, b] = model.parameters()\n",
    "def get_params():\n",
    "  return (w[0][0].item(), b[0].item())"
   ]
  },
  {
   "cell_type": "code",
   "execution_count": 19,
   "metadata": {},
   "outputs": [],
   "source": [
    "criterion = nn.MSELoss()\n",
    "optimizer = torch.optim.SGD(model.parameters(), lr = 0.001) # lr = 0.01 - not good\n"
   ]
  },
  {
   "cell_type": "code",
   "execution_count": 20,
   "metadata": {},
   "outputs": [
    {
     "name": "stdout",
     "output_type": "stream",
     "text": [
      "epoch: 0 loss: 621155647488.0\n",
      "epoch: 1 loss: 385064960000.0\n",
      "epoch: 2 loss: 238708277248.0\n",
      "epoch: 3 loss: 147979288576.0\n",
      "epoch: 4 loss: 91734867968.0\n",
      "epoch: 5 loss: 56867999744.0\n",
      "epoch: 6 loss: 35253428224.0\n",
      "epoch: 7 loss: 21854197760.0\n",
      "epoch: 8 loss: 13547784192.0\n",
      "epoch: 9 loss: 8398502400.0\n",
      "epoch: 10 loss: 5206373376.0\n",
      "epoch: 11 loss: 3227519232.0\n",
      "epoch: 12 loss: 2000793984.0\n",
      "epoch: 13 loss: 1240326016.0\n",
      "epoch: 14 loss: 768899136.0\n",
      "epoch: 15 loss: 476653504.0\n",
      "epoch: 16 loss: 295485600.0\n",
      "epoch: 17 loss: 183176528.0\n",
      "epoch: 18 loss: 113554240.0\n",
      "epoch: 19 loss: 70394200.0\n",
      "epoch: 20 loss: 43638556.0\n",
      "epoch: 21 loss: 27052284.0\n",
      "epoch: 22 loss: 16770172.0\n",
      "epoch: 23 loss: 10396118.0\n",
      "epoch: 24 loss: 6444733.0\n",
      "epoch: 25 loss: 3995202.0\n",
      "epoch: 26 loss: 2476696.5\n",
      "epoch: 27 loss: 1535349.0\n",
      "epoch: 28 loss: 951792.0625\n",
      "epoch: 29 loss: 590035.1875\n",
      "epoch: 30 loss: 365775.96875\n",
      "epoch: 31 loss: 226753.90625\n",
      "epoch: 32 loss: 140571.78125\n",
      "epoch: 33 loss: 87146.015625\n",
      "epoch: 34 loss: 54026.4765625\n",
      "epoch: 35 loss: 33495.11328125\n",
      "epoch: 36 loss: 20767.376953125\n",
      "epoch: 37 loss: 12877.236328125\n",
      "epoch: 38 loss: 7986.00537109375\n",
      "epoch: 39 loss: 4953.84912109375\n",
      "epoch: 40 loss: 3074.164306640625\n",
      "epoch: 41 loss: 1908.9161376953125\n",
      "epoch: 42 loss: 1186.558837890625\n",
      "epoch: 43 loss: 738.7573852539062\n",
      "epoch: 44 loss: 461.1575927734375\n",
      "epoch: 45 loss: 289.06884765625\n",
      "epoch: 46 loss: 182.38812255859375\n",
      "epoch: 47 loss: 116.25492858886719\n",
      "epoch: 48 loss: 75.2578353881836\n",
      "epoch: 49 loss: 49.8430290222168\n",
      "epoch: 50 loss: 34.08796310424805\n",
      "epoch: 51 loss: 24.321125030517578\n",
      "epoch: 52 loss: 18.266494750976562\n",
      "epoch: 53 loss: 14.513121604919434\n",
      "epoch: 54 loss: 12.186335563659668\n",
      "epoch: 55 loss: 10.743921279907227\n",
      "epoch: 56 loss: 9.849739074707031\n",
      "epoch: 57 loss: 9.295415878295898\n",
      "epoch: 58 loss: 8.951777458190918\n",
      "epoch: 59 loss: 8.738747596740723\n",
      "epoch: 60 loss: 8.606681823730469\n",
      "epoch: 61 loss: 8.524808883666992\n",
      "epoch: 62 loss: 8.474050521850586\n",
      "epoch: 63 loss: 8.442580223083496\n",
      "epoch: 64 loss: 8.423068046569824\n",
      "epoch: 65 loss: 8.410967826843262\n",
      "epoch: 66 loss: 8.403463363647461\n",
      "epoch: 67 loss: 8.398807525634766\n",
      "epoch: 68 loss: 8.395916938781738\n",
      "epoch: 69 loss: 8.394122123718262\n",
      "epoch: 70 loss: 8.393004417419434\n",
      "epoch: 71 loss: 8.392308235168457\n",
      "epoch: 72 loss: 8.391873359680176\n",
      "epoch: 73 loss: 8.391599655151367\n",
      "epoch: 74 loss: 8.391427040100098\n",
      "epoch: 75 loss: 8.391316413879395\n",
      "epoch: 76 loss: 8.391243934631348\n",
      "epoch: 77 loss: 8.391195297241211\n",
      "epoch: 78 loss: 8.391161918640137\n",
      "epoch: 79 loss: 8.39113712310791\n",
      "epoch: 80 loss: 8.391118049621582\n",
      "epoch: 81 loss: 8.39110279083252\n",
      "epoch: 82 loss: 8.39108943939209\n",
      "epoch: 83 loss: 8.391077995300293\n",
      "epoch: 84 loss: 8.391067504882812\n",
      "epoch: 85 loss: 8.391057014465332\n",
      "epoch: 86 loss: 8.391047477722168\n",
      "epoch: 87 loss: 8.391037940979004\n",
      "epoch: 88 loss: 8.39102840423584\n",
      "epoch: 89 loss: 8.391019821166992\n",
      "epoch: 90 loss: 8.391010284423828\n",
      "epoch: 91 loss: 8.391000747680664\n",
      "epoch: 92 loss: 8.390992164611816\n",
      "epoch: 93 loss: 8.390982627868652\n",
      "epoch: 94 loss: 8.390973091125488\n",
      "epoch: 95 loss: 8.39096450805664\n",
      "epoch: 96 loss: 8.390955924987793\n",
      "epoch: 97 loss: 8.390946388244629\n",
      "epoch: 98 loss: 8.390937805175781\n",
      "epoch: 99 loss: 8.390929222106934\n"
     ]
    }
   ],
   "source": [
    "epochs = 100\n",
    "losses = []\n",
    "for i in range(epochs):\n",
    "    y_pred = model.forward(X)\n",
    "    loss = criterion(y_pred, y)\n",
    "    print(\"epoch:\", i, \"loss:\", loss.item())\n",
    "    \n",
    "    losses.append(loss)\n",
    "    optimizer.zero_grad()\n",
    "    loss.backward()\n",
    "    optimizer.step()"
   ]
  },
  {
   "cell_type": "code",
   "execution_count": 21,
   "metadata": {},
   "outputs": [
    {
     "data": {
      "text/plain": [
       "Text(0.5, 0, 'epoch')"
      ]
     },
     "execution_count": 21,
     "metadata": {},
     "output_type": "execute_result"
    },
    {
     "data": {
      "image/png": "[encoded data removed]",
      "text/plain": [
       "<Figure size 432x288 with 1 Axes>"
      ]
     },
     "metadata": {
      "needs_background": "light"
     },
     "output_type": "display_data"
    }
   ],
   "source": [
    "plt.plot(range(epochs), losses)\n",
    "plt.ylabel('Loss')\n",
    "plt.xlabel('epoch')"
   ]
  },
  {
   "cell_type": "code",
   "execution_count": 22,
   "metadata": {},
   "outputs": [
    {
     "data": {
      "image/png": "[encoded data removed]",
      "text/plain": [
       "<Figure size 432x288 with 1 Axes>"
      ]
     },
     "metadata": {
      "needs_background": "light"
     },
     "output_type": "display_data"
    }
   ],
   "source": [
    "plot_fit(\"Trained Model\")"
   ]
  },
  {
   "cell_type": "code",
   "execution_count": null,
   "metadata": {},
   "outputs": [],
   "source": []
  },
  {
   "cell_type": "code",
   "execution_count": null,
   "metadata": {},
   "outputs": [],
   "source": []
  }
 ],
 "metadata": {
  "kernelspec": {
   "display_name": "PyTorch 3.6",
   "language": "python",
   "name": "pytorch-3.6"
  },
  "language_info": {
   "codemirror_mode": {
    "name": "ipython",
    "version": 3
   },
   "file_extension": ".py",
   "mimetype": "text/x-python",
   "name": "python",
   "nbconvert_exporter": "python",
   "pygments_lexer": "ipython3",
   "version": "3.6.8"
  }
 },
 "nbformat": 4,
 "nbformat_minor": 2
}
